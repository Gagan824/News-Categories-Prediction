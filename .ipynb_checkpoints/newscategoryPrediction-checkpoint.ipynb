{
 "cells": [
  {
   "cell_type": "markdown",
   "id": "b4473647",
   "metadata": {},
   "source": [
    "# Importing mendatory libraries"
   ]
  },
  {
   "cell_type": "code",
   "execution_count": 215,
   "id": "b0f4b0ef",
   "metadata": {},
   "outputs": [],
   "source": [
    "import pandas as pd\n",
    "import numpy as np\n",
    "from sklearn.feature_extraction.text import TfidfTransformer\n",
    "from sklearn.feature_extraction.text import CountVectorizer\n",
    "from sklearn.feature_extraction.text import TfidfVectorizer\n",
    "from sklearn.model_selection import train_test_split\n",
    "from sklearn.naive_bayes import MultinomialNB\n",
    "from sklearn.metrics import confusion_matrix \n",
    "from sklearn.pipeline import Pipeline,make_pipeline\n",
    "from joblib import dump, load\n",
    "from nltk.stem import WordNetLemmatizer\n",
    "from nltk.corpus import stopwords\n",
    "import matplotlib.pyplot as plt\n",
    "import re\n",
    "import itertools"
   ]
  },
  {
   "cell_type": "markdown",
   "id": "3a3994cd",
   "metadata": {},
   "source": [
    "# reading data from the news file"
   ]
  },
  {
   "cell_type": "code",
   "execution_count": 105,
   "id": "bdd7dbbb",
   "metadata": {},
   "outputs": [],
   "source": [
    "news_data = pd.read_csv('data/news.csv')"
   ]
  },
  {
   "cell_type": "markdown",
   "id": "afd75d98",
   "metadata": {},
   "source": [
    "# finding length of the data "
   ]
  },
  {
   "cell_type": "code",
   "execution_count": 118,
   "id": "7f4e55d4",
   "metadata": {},
   "outputs": [
    {
     "name": "stdout",
     "output_type": "stream",
     "text": [
      "422419\n"
     ]
    }
   ],
   "source": [
    "dataLength = len(news_data)\n",
    "print(dataLength)"
   ]
  },
  {
   "cell_type": "markdown",
   "id": "da358381",
   "metadata": {},
   "source": [
    "# Length is to much for the system procees or to train the model. So we will take some data from it for train test purpose"
   ]
  },
  {
   "cell_type": "markdown",
   "id": "21bccab4",
   "metadata": {},
   "source": [
    "First we will check and remove / impute the null values.\n",
    "So we can select train and test data perfectly"
   ]
  },
  {
   "cell_type": "code",
   "execution_count": 119,
   "id": "1d02c439",
   "metadata": {},
   "outputs": [
    {
     "data": {
      "text/plain": [
       "ID           0\n",
       "TITLE        0\n",
       "URL          0\n",
       "PUBLISHER    2\n",
       "CATEGORY     0\n",
       "STORY        0\n",
       "HOSTNAME     0\n",
       "TIMESTAMP    0\n",
       "dtype: int64"
      ]
     },
     "execution_count": 119,
     "metadata": {},
     "output_type": "execute_result"
    }
   ],
   "source": [
    "news_data.isna().sum()"
   ]
  },
  {
   "cell_type": "markdown",
   "id": "8d4ce582",
   "metadata": {},
   "source": [
    "# imputing the null values with ' ' value"
   ]
  },
  {
   "cell_type": "code",
   "execution_count": 120,
   "id": "10aca248",
   "metadata": {},
   "outputs": [],
   "source": [
    "news_data['PUBLISHER'] =news_data.PUBLISHER.fillna(' ')"
   ]
  },
  {
   "cell_type": "code",
   "execution_count": 121,
   "id": "6b35696a",
   "metadata": {},
   "outputs": [
    {
     "data": {
      "text/plain": [
       "ID           0\n",
       "TITLE        0\n",
       "URL          0\n",
       "PUBLISHER    0\n",
       "CATEGORY     0\n",
       "STORY        0\n",
       "HOSTNAME     0\n",
       "TIMESTAMP    0\n",
       "dtype: int64"
      ]
     },
     "execution_count": 121,
     "metadata": {},
     "output_type": "execute_result"
    }
   ],
   "source": [
    "news_data.isna().sum()"
   ]
  },
  {
   "cell_type": "markdown",
   "id": "f7d6ee8c",
   "metadata": {},
   "source": [
    "# Now we will check the different categories"
   ]
  },
  {
   "cell_type": "code",
   "execution_count": 25,
   "id": "0ee77fd9",
   "metadata": {},
   "outputs": [
    {
     "data": {
      "text/html": [
       "<div>\n",
       "<style scoped>\n",
       "    .dataframe tbody tr th:only-of-type {\n",
       "        vertical-align: middle;\n",
       "    }\n",
       "\n",
       "    .dataframe tbody tr th {\n",
       "        vertical-align: top;\n",
       "    }\n",
       "\n",
       "    .dataframe thead th {\n",
       "        text-align: right;\n",
       "    }\n",
       "</style>\n",
       "<table border=\"1\" class=\"dataframe\">\n",
       "  <thead>\n",
       "    <tr style=\"text-align: right;\">\n",
       "      <th></th>\n",
       "      <th>ID</th>\n",
       "      <th>TITLE</th>\n",
       "      <th>URL</th>\n",
       "      <th>PUBLISHER</th>\n",
       "      <th>CATEGORY</th>\n",
       "      <th>STORY</th>\n",
       "      <th>HOSTNAME</th>\n",
       "      <th>TIMESTAMP</th>\n",
       "    </tr>\n",
       "  </thead>\n",
       "  <tbody>\n",
       "    <tr>\n",
       "      <th>0</th>\n",
       "      <td>1</td>\n",
       "      <td>Fed official says weak data caused by weather,...</td>\n",
       "      <td>http://www.latimes.com/business/money/la-fi-mo...</td>\n",
       "      <td>Los Angeles Times</td>\n",
       "      <td>b</td>\n",
       "      <td>ddUyU0VZz0BRneMioxUPQVP6sIxvM</td>\n",
       "      <td>www.latimes.com</td>\n",
       "      <td>1394470370698</td>\n",
       "    </tr>\n",
       "    <tr>\n",
       "      <th>1</th>\n",
       "      <td>2</td>\n",
       "      <td>Fed's Charles Plosser sees high bar for change...</td>\n",
       "      <td>http://www.livemint.com/Politics/H2EvwJSK2VE6O...</td>\n",
       "      <td>Livemint</td>\n",
       "      <td>b</td>\n",
       "      <td>ddUyU0VZz0BRneMioxUPQVP6sIxvM</td>\n",
       "      <td>www.livemint.com</td>\n",
       "      <td>1394470371207</td>\n",
       "    </tr>\n",
       "  </tbody>\n",
       "</table>\n",
       "</div>"
      ],
      "text/plain": [
       "   ID                                              TITLE  \\\n",
       "0   1  Fed official says weak data caused by weather,...   \n",
       "1   2  Fed's Charles Plosser sees high bar for change...   \n",
       "\n",
       "                                                 URL          PUBLISHER  \\\n",
       "0  http://www.latimes.com/business/money/la-fi-mo...  Los Angeles Times   \n",
       "1  http://www.livemint.com/Politics/H2EvwJSK2VE6O...           Livemint   \n",
       "\n",
       "  CATEGORY                          STORY          HOSTNAME      TIMESTAMP  \n",
       "0        b  ddUyU0VZz0BRneMioxUPQVP6sIxvM   www.latimes.com  1394470370698  \n",
       "1        b  ddUyU0VZz0BRneMioxUPQVP6sIxvM  www.livemint.com  1394470371207  "
      ]
     },
     "execution_count": 25,
     "metadata": {},
     "output_type": "execute_result"
    }
   ],
   "source": [
    "news_data.head(2)"
   ]
  },
  {
   "cell_type": "code",
   "execution_count": 122,
   "id": "9cc1b258",
   "metadata": {},
   "outputs": [
    {
     "data": {
      "text/plain": [
       "array(['b', 't', 'e', 'm'], dtype=object)"
      ]
     },
     "execution_count": 122,
     "metadata": {},
     "output_type": "execute_result"
    }
   ],
   "source": [
    "news_data['CATEGORY'].unique()"
   ]
  },
  {
   "cell_type": "markdown",
   "id": "524084d9",
   "metadata": {},
   "source": [
    "Here we have four different categories : 'b', 't', 'e', 'm'"
   ]
  },
  {
   "cell_type": "markdown",
   "id": "0445010c",
   "metadata": {},
   "source": [
    "Now we will select the train data on the basis of these categories such that our data will be balanced"
   ]
  },
  {
   "cell_type": "markdown",
   "id": "0270e798",
   "metadata": {},
   "source": [
    "# Imbalanced data is that data in which number of majority class is much more than the number of the minority class "
   ]
  },
  {
   "cell_type": "code",
   "execution_count": 123,
   "id": "b8494e5a",
   "metadata": {},
   "outputs": [],
   "source": [
    "categories = news_data['CATEGORY'].unique()"
   ]
  },
  {
   "cell_type": "code",
   "execution_count": 124,
   "id": "349a498b",
   "metadata": {},
   "outputs": [
    {
     "data": {
      "text/html": [
       "<div>\n",
       "<style scoped>\n",
       "    .dataframe tbody tr th:only-of-type {\n",
       "        vertical-align: middle;\n",
       "    }\n",
       "\n",
       "    .dataframe tbody tr th {\n",
       "        vertical-align: top;\n",
       "    }\n",
       "\n",
       "    .dataframe thead th {\n",
       "        text-align: right;\n",
       "    }\n",
       "</style>\n",
       "<table border=\"1\" class=\"dataframe\">\n",
       "  <thead>\n",
       "    <tr style=\"text-align: right;\">\n",
       "      <th></th>\n",
       "      <th>ID</th>\n",
       "      <th>TITLE</th>\n",
       "      <th>URL</th>\n",
       "      <th>PUBLISHER</th>\n",
       "      <th>CATEGORY</th>\n",
       "      <th>STORY</th>\n",
       "      <th>HOSTNAME</th>\n",
       "      <th>TIMESTAMP</th>\n",
       "    </tr>\n",
       "  </thead>\n",
       "  <tbody>\n",
       "    <tr>\n",
       "      <th>0</th>\n",
       "      <td>1</td>\n",
       "      <td>Fed official says weak data caused by weather,...</td>\n",
       "      <td>http://www.latimes.com/business/money/la-fi-mo...</td>\n",
       "      <td>Los Angeles Times</td>\n",
       "      <td>b</td>\n",
       "      <td>ddUyU0VZz0BRneMioxUPQVP6sIxvM</td>\n",
       "      <td>www.latimes.com</td>\n",
       "      <td>1394470370698</td>\n",
       "    </tr>\n",
       "    <tr>\n",
       "      <th>1</th>\n",
       "      <td>2</td>\n",
       "      <td>Fed's Charles Plosser sees high bar for change...</td>\n",
       "      <td>http://www.livemint.com/Politics/H2EvwJSK2VE6O...</td>\n",
       "      <td>Livemint</td>\n",
       "      <td>b</td>\n",
       "      <td>ddUyU0VZz0BRneMioxUPQVP6sIxvM</td>\n",
       "      <td>www.livemint.com</td>\n",
       "      <td>1394470371207</td>\n",
       "    </tr>\n",
       "    <tr>\n",
       "      <th>2</th>\n",
       "      <td>3</td>\n",
       "      <td>US open: Stocks fall after Fed official hints ...</td>\n",
       "      <td>http://www.ifamagazine.com/news/us-open-stocks...</td>\n",
       "      <td>IFA Magazine</td>\n",
       "      <td>b</td>\n",
       "      <td>ddUyU0VZz0BRneMioxUPQVP6sIxvM</td>\n",
       "      <td>www.ifamagazine.com</td>\n",
       "      <td>1394470371550</td>\n",
       "    </tr>\n",
       "  </tbody>\n",
       "</table>\n",
       "</div>"
      ],
      "text/plain": [
       "   ID                                              TITLE  \\\n",
       "0   1  Fed official says weak data caused by weather,...   \n",
       "1   2  Fed's Charles Plosser sees high bar for change...   \n",
       "2   3  US open: Stocks fall after Fed official hints ...   \n",
       "\n",
       "                                                 URL          PUBLISHER  \\\n",
       "0  http://www.latimes.com/business/money/la-fi-mo...  Los Angeles Times   \n",
       "1  http://www.livemint.com/Politics/H2EvwJSK2VE6O...           Livemint   \n",
       "2  http://www.ifamagazine.com/news/us-open-stocks...       IFA Magazine   \n",
       "\n",
       "  CATEGORY                          STORY             HOSTNAME      TIMESTAMP  \n",
       "0        b  ddUyU0VZz0BRneMioxUPQVP6sIxvM      www.latimes.com  1394470370698  \n",
       "1        b  ddUyU0VZz0BRneMioxUPQVP6sIxvM     www.livemint.com  1394470371207  \n",
       "2        b  ddUyU0VZz0BRneMioxUPQVP6sIxvM  www.ifamagazine.com  1394470371550  "
      ]
     },
     "execution_count": 124,
     "metadata": {},
     "output_type": "execute_result"
    }
   ],
   "source": [
    "news_data.head(3)"
   ]
  },
  {
   "cell_type": "code",
   "execution_count": 125,
   "id": "5e35c2a3",
   "metadata": {},
   "outputs": [],
   "source": [
    "train_news_data = pd.DataFrame()\n",
    "for category in categories:\n",
    "    train_news_data = pd.concat([train_news_data,news_data[news_data['CATEGORY'] == category][0:10000]])\n",
    "    "
   ]
  },
  {
   "cell_type": "code",
   "execution_count": 126,
   "id": "0d4a22cb",
   "metadata": {},
   "outputs": [
    {
     "data": {
      "text/html": [
       "<div>\n",
       "<style scoped>\n",
       "    .dataframe tbody tr th:only-of-type {\n",
       "        vertical-align: middle;\n",
       "    }\n",
       "\n",
       "    .dataframe tbody tr th {\n",
       "        vertical-align: top;\n",
       "    }\n",
       "\n",
       "    .dataframe thead th {\n",
       "        text-align: right;\n",
       "    }\n",
       "</style>\n",
       "<table border=\"1\" class=\"dataframe\">\n",
       "  <thead>\n",
       "    <tr style=\"text-align: right;\">\n",
       "      <th></th>\n",
       "      <th>ID</th>\n",
       "      <th>TITLE</th>\n",
       "      <th>URL</th>\n",
       "      <th>PUBLISHER</th>\n",
       "      <th>CATEGORY</th>\n",
       "      <th>STORY</th>\n",
       "      <th>HOSTNAME</th>\n",
       "      <th>TIMESTAMP</th>\n",
       "    </tr>\n",
       "  </thead>\n",
       "  <tbody>\n",
       "    <tr>\n",
       "      <th>0</th>\n",
       "      <td>1</td>\n",
       "      <td>Fed official says weak data caused by weather,...</td>\n",
       "      <td>http://www.latimes.com/business/money/la-fi-mo...</td>\n",
       "      <td>Los Angeles Times</td>\n",
       "      <td>b</td>\n",
       "      <td>ddUyU0VZz0BRneMioxUPQVP6sIxvM</td>\n",
       "      <td>www.latimes.com</td>\n",
       "      <td>1394470370698</td>\n",
       "    </tr>\n",
       "    <tr>\n",
       "      <th>1</th>\n",
       "      <td>2</td>\n",
       "      <td>Fed's Charles Plosser sees high bar for change...</td>\n",
       "      <td>http://www.livemint.com/Politics/H2EvwJSK2VE6O...</td>\n",
       "      <td>Livemint</td>\n",
       "      <td>b</td>\n",
       "      <td>ddUyU0VZz0BRneMioxUPQVP6sIxvM</td>\n",
       "      <td>www.livemint.com</td>\n",
       "      <td>1394470371207</td>\n",
       "    </tr>\n",
       "    <tr>\n",
       "      <th>2</th>\n",
       "      <td>3</td>\n",
       "      <td>US open: Stocks fall after Fed official hints ...</td>\n",
       "      <td>http://www.ifamagazine.com/news/us-open-stocks...</td>\n",
       "      <td>IFA Magazine</td>\n",
       "      <td>b</td>\n",
       "      <td>ddUyU0VZz0BRneMioxUPQVP6sIxvM</td>\n",
       "      <td>www.ifamagazine.com</td>\n",
       "      <td>1394470371550</td>\n",
       "    </tr>\n",
       "    <tr>\n",
       "      <th>3</th>\n",
       "      <td>4</td>\n",
       "      <td>Fed risks falling 'behind the curve', Charles ...</td>\n",
       "      <td>http://www.ifamagazine.com/news/fed-risks-fall...</td>\n",
       "      <td>IFA Magazine</td>\n",
       "      <td>b</td>\n",
       "      <td>ddUyU0VZz0BRneMioxUPQVP6sIxvM</td>\n",
       "      <td>www.ifamagazine.com</td>\n",
       "      <td>1394470371793</td>\n",
       "    </tr>\n",
       "    <tr>\n",
       "      <th>4</th>\n",
       "      <td>5</td>\n",
       "      <td>Fed's Plosser: Nasty Weather Has Curbed Job Gr...</td>\n",
       "      <td>http://www.moneynews.com/Economy/federal-reser...</td>\n",
       "      <td>Moneynews</td>\n",
       "      <td>b</td>\n",
       "      <td>ddUyU0VZz0BRneMioxUPQVP6sIxvM</td>\n",
       "      <td>www.moneynews.com</td>\n",
       "      <td>1394470372027</td>\n",
       "    </tr>\n",
       "  </tbody>\n",
       "</table>\n",
       "</div>"
      ],
      "text/plain": [
       "   ID                                              TITLE  \\\n",
       "0   1  Fed official says weak data caused by weather,...   \n",
       "1   2  Fed's Charles Plosser sees high bar for change...   \n",
       "2   3  US open: Stocks fall after Fed official hints ...   \n",
       "3   4  Fed risks falling 'behind the curve', Charles ...   \n",
       "4   5  Fed's Plosser: Nasty Weather Has Curbed Job Gr...   \n",
       "\n",
       "                                                 URL          PUBLISHER  \\\n",
       "0  http://www.latimes.com/business/money/la-fi-mo...  Los Angeles Times   \n",
       "1  http://www.livemint.com/Politics/H2EvwJSK2VE6O...           Livemint   \n",
       "2  http://www.ifamagazine.com/news/us-open-stocks...       IFA Magazine   \n",
       "3  http://www.ifamagazine.com/news/fed-risks-fall...       IFA Magazine   \n",
       "4  http://www.moneynews.com/Economy/federal-reser...          Moneynews   \n",
       "\n",
       "  CATEGORY                          STORY             HOSTNAME      TIMESTAMP  \n",
       "0        b  ddUyU0VZz0BRneMioxUPQVP6sIxvM      www.latimes.com  1394470370698  \n",
       "1        b  ddUyU0VZz0BRneMioxUPQVP6sIxvM     www.livemint.com  1394470371207  \n",
       "2        b  ddUyU0VZz0BRneMioxUPQVP6sIxvM  www.ifamagazine.com  1394470371550  \n",
       "3        b  ddUyU0VZz0BRneMioxUPQVP6sIxvM  www.ifamagazine.com  1394470371793  \n",
       "4        b  ddUyU0VZz0BRneMioxUPQVP6sIxvM    www.moneynews.com  1394470372027  "
      ]
     },
     "execution_count": 126,
     "metadata": {},
     "output_type": "execute_result"
    }
   ],
   "source": [
    "train_news_data.head()"
   ]
  },
  {
   "cell_type": "markdown",
   "id": "2b4c868c",
   "metadata": {},
   "source": [
    "# creating test data "
   ]
  },
  {
   "cell_type": "code",
   "execution_count": 127,
   "id": "4bee59ff",
   "metadata": {},
   "outputs": [],
   "source": [
    "test_data = news_data.sample(1000)"
   ]
  },
  {
   "cell_type": "markdown",
   "id": "1e1bcc49",
   "metadata": {},
   "source": [
    "# saving train_test data file"
   ]
  },
  {
   "cell_type": "code",
   "execution_count": 128,
   "id": "4e4d42c2",
   "metadata": {},
   "outputs": [],
   "source": [
    "train_news_data.to_csv('data/train_news_data.csv')\n",
    "test_data.to_csv('data/test_data.csv')"
   ]
  },
  {
   "cell_type": "markdown",
   "id": "682a6553",
   "metadata": {},
   "source": [
    "# Now we can use our train data "
   ]
  },
  {
   "cell_type": "code",
   "execution_count": 162,
   "id": "455a7da5",
   "metadata": {},
   "outputs": [],
   "source": [
    "train_news_data = pd.read_csv('data/train_news_data.csv')"
   ]
  },
  {
   "cell_type": "code",
   "execution_count": 163,
   "id": "230a8594",
   "metadata": {},
   "outputs": [
    {
     "data": {
      "text/html": [
       "<div>\n",
       "<style scoped>\n",
       "    .dataframe tbody tr th:only-of-type {\n",
       "        vertical-align: middle;\n",
       "    }\n",
       "\n",
       "    .dataframe tbody tr th {\n",
       "        vertical-align: top;\n",
       "    }\n",
       "\n",
       "    .dataframe thead th {\n",
       "        text-align: right;\n",
       "    }\n",
       "</style>\n",
       "<table border=\"1\" class=\"dataframe\">\n",
       "  <thead>\n",
       "    <tr style=\"text-align: right;\">\n",
       "      <th></th>\n",
       "      <th>Unnamed: 0</th>\n",
       "      <th>ID</th>\n",
       "      <th>TITLE</th>\n",
       "      <th>URL</th>\n",
       "      <th>PUBLISHER</th>\n",
       "      <th>CATEGORY</th>\n",
       "      <th>STORY</th>\n",
       "      <th>HOSTNAME</th>\n",
       "      <th>TIMESTAMP</th>\n",
       "    </tr>\n",
       "  </thead>\n",
       "  <tbody>\n",
       "    <tr>\n",
       "      <th>0</th>\n",
       "      <td>0</td>\n",
       "      <td>1</td>\n",
       "      <td>Fed official says weak data caused by weather,...</td>\n",
       "      <td>http://www.latimes.com/business/money/la-fi-mo...</td>\n",
       "      <td>Los Angeles Times</td>\n",
       "      <td>b</td>\n",
       "      <td>ddUyU0VZz0BRneMioxUPQVP6sIxvM</td>\n",
       "      <td>www.latimes.com</td>\n",
       "      <td>1394470370698</td>\n",
       "    </tr>\n",
       "    <tr>\n",
       "      <th>1</th>\n",
       "      <td>1</td>\n",
       "      <td>2</td>\n",
       "      <td>Fed's Charles Plosser sees high bar for change...</td>\n",
       "      <td>http://www.livemint.com/Politics/H2EvwJSK2VE6O...</td>\n",
       "      <td>Livemint</td>\n",
       "      <td>b</td>\n",
       "      <td>ddUyU0VZz0BRneMioxUPQVP6sIxvM</td>\n",
       "      <td>www.livemint.com</td>\n",
       "      <td>1394470371207</td>\n",
       "    </tr>\n",
       "    <tr>\n",
       "      <th>2</th>\n",
       "      <td>2</td>\n",
       "      <td>3</td>\n",
       "      <td>US open: Stocks fall after Fed official hints ...</td>\n",
       "      <td>http://www.ifamagazine.com/news/us-open-stocks...</td>\n",
       "      <td>IFA Magazine</td>\n",
       "      <td>b</td>\n",
       "      <td>ddUyU0VZz0BRneMioxUPQVP6sIxvM</td>\n",
       "      <td>www.ifamagazine.com</td>\n",
       "      <td>1394470371550</td>\n",
       "    </tr>\n",
       "    <tr>\n",
       "      <th>3</th>\n",
       "      <td>3</td>\n",
       "      <td>4</td>\n",
       "      <td>Fed risks falling 'behind the curve', Charles ...</td>\n",
       "      <td>http://www.ifamagazine.com/news/fed-risks-fall...</td>\n",
       "      <td>IFA Magazine</td>\n",
       "      <td>b</td>\n",
       "      <td>ddUyU0VZz0BRneMioxUPQVP6sIxvM</td>\n",
       "      <td>www.ifamagazine.com</td>\n",
       "      <td>1394470371793</td>\n",
       "    </tr>\n",
       "    <tr>\n",
       "      <th>4</th>\n",
       "      <td>4</td>\n",
       "      <td>5</td>\n",
       "      <td>Fed's Plosser: Nasty Weather Has Curbed Job Gr...</td>\n",
       "      <td>http://www.moneynews.com/Economy/federal-reser...</td>\n",
       "      <td>Moneynews</td>\n",
       "      <td>b</td>\n",
       "      <td>ddUyU0VZz0BRneMioxUPQVP6sIxvM</td>\n",
       "      <td>www.moneynews.com</td>\n",
       "      <td>1394470372027</td>\n",
       "    </tr>\n",
       "  </tbody>\n",
       "</table>\n",
       "</div>"
      ],
      "text/plain": [
       "   Unnamed: 0  ID                                              TITLE  \\\n",
       "0           0   1  Fed official says weak data caused by weather,...   \n",
       "1           1   2  Fed's Charles Plosser sees high bar for change...   \n",
       "2           2   3  US open: Stocks fall after Fed official hints ...   \n",
       "3           3   4  Fed risks falling 'behind the curve', Charles ...   \n",
       "4           4   5  Fed's Plosser: Nasty Weather Has Curbed Job Gr...   \n",
       "\n",
       "                                                 URL          PUBLISHER  \\\n",
       "0  http://www.latimes.com/business/money/la-fi-mo...  Los Angeles Times   \n",
       "1  http://www.livemint.com/Politics/H2EvwJSK2VE6O...           Livemint   \n",
       "2  http://www.ifamagazine.com/news/us-open-stocks...       IFA Magazine   \n",
       "3  http://www.ifamagazine.com/news/fed-risks-fall...       IFA Magazine   \n",
       "4  http://www.moneynews.com/Economy/federal-reser...          Moneynews   \n",
       "\n",
       "  CATEGORY                          STORY             HOSTNAME      TIMESTAMP  \n",
       "0        b  ddUyU0VZz0BRneMioxUPQVP6sIxvM      www.latimes.com  1394470370698  \n",
       "1        b  ddUyU0VZz0BRneMioxUPQVP6sIxvM     www.livemint.com  1394470371207  \n",
       "2        b  ddUyU0VZz0BRneMioxUPQVP6sIxvM  www.ifamagazine.com  1394470371550  \n",
       "3        b  ddUyU0VZz0BRneMioxUPQVP6sIxvM  www.ifamagazine.com  1394470371793  \n",
       "4        b  ddUyU0VZz0BRneMioxUPQVP6sIxvM    www.moneynews.com  1394470372027  "
      ]
     },
     "execution_count": 163,
     "metadata": {},
     "output_type": "execute_result"
    }
   ],
   "source": [
    "train_news_data.head()"
   ]
  },
  {
   "cell_type": "markdown",
   "id": "82d752d0",
   "metadata": {},
   "source": [
    "# Now we will drop the columns which is not much more needed"
   ]
  },
  {
   "cell_type": "markdown",
   "id": "4831f9b9",
   "metadata": {},
   "source": [
    "Here we can see in our data hostname is already present in the url so we can use either url or hostname,\n",
    "Time stamp is not needed, we can drop ID too"
   ]
  },
  {
   "cell_type": "code",
   "execution_count": 164,
   "id": "df0d6ab2",
   "metadata": {},
   "outputs": [],
   "source": [
    "train_news_data = train_news_data.drop(['Unnamed: 0','ID','URL','TIMESTAMP'], axis=1)"
   ]
  },
  {
   "cell_type": "code",
   "execution_count": 165,
   "id": "83c18b7b",
   "metadata": {},
   "outputs": [
    {
     "data": {
      "text/html": [
       "<div>\n",
       "<style scoped>\n",
       "    .dataframe tbody tr th:only-of-type {\n",
       "        vertical-align: middle;\n",
       "    }\n",
       "\n",
       "    .dataframe tbody tr th {\n",
       "        vertical-align: top;\n",
       "    }\n",
       "\n",
       "    .dataframe thead th {\n",
       "        text-align: right;\n",
       "    }\n",
       "</style>\n",
       "<table border=\"1\" class=\"dataframe\">\n",
       "  <thead>\n",
       "    <tr style=\"text-align: right;\">\n",
       "      <th></th>\n",
       "      <th>TITLE</th>\n",
       "      <th>PUBLISHER</th>\n",
       "      <th>CATEGORY</th>\n",
       "      <th>STORY</th>\n",
       "      <th>HOSTNAME</th>\n",
       "    </tr>\n",
       "  </thead>\n",
       "  <tbody>\n",
       "    <tr>\n",
       "      <th>0</th>\n",
       "      <td>Fed official says weak data caused by weather,...</td>\n",
       "      <td>Los Angeles Times</td>\n",
       "      <td>b</td>\n",
       "      <td>ddUyU0VZz0BRneMioxUPQVP6sIxvM</td>\n",
       "      <td>www.latimes.com</td>\n",
       "    </tr>\n",
       "    <tr>\n",
       "      <th>1</th>\n",
       "      <td>Fed's Charles Plosser sees high bar for change...</td>\n",
       "      <td>Livemint</td>\n",
       "      <td>b</td>\n",
       "      <td>ddUyU0VZz0BRneMioxUPQVP6sIxvM</td>\n",
       "      <td>www.livemint.com</td>\n",
       "    </tr>\n",
       "    <tr>\n",
       "      <th>2</th>\n",
       "      <td>US open: Stocks fall after Fed official hints ...</td>\n",
       "      <td>IFA Magazine</td>\n",
       "      <td>b</td>\n",
       "      <td>ddUyU0VZz0BRneMioxUPQVP6sIxvM</td>\n",
       "      <td>www.ifamagazine.com</td>\n",
       "    </tr>\n",
       "    <tr>\n",
       "      <th>3</th>\n",
       "      <td>Fed risks falling 'behind the curve', Charles ...</td>\n",
       "      <td>IFA Magazine</td>\n",
       "      <td>b</td>\n",
       "      <td>ddUyU0VZz0BRneMioxUPQVP6sIxvM</td>\n",
       "      <td>www.ifamagazine.com</td>\n",
       "    </tr>\n",
       "    <tr>\n",
       "      <th>4</th>\n",
       "      <td>Fed's Plosser: Nasty Weather Has Curbed Job Gr...</td>\n",
       "      <td>Moneynews</td>\n",
       "      <td>b</td>\n",
       "      <td>ddUyU0VZz0BRneMioxUPQVP6sIxvM</td>\n",
       "      <td>www.moneynews.com</td>\n",
       "    </tr>\n",
       "  </tbody>\n",
       "</table>\n",
       "</div>"
      ],
      "text/plain": [
       "                                               TITLE          PUBLISHER  \\\n",
       "0  Fed official says weak data caused by weather,...  Los Angeles Times   \n",
       "1  Fed's Charles Plosser sees high bar for change...           Livemint   \n",
       "2  US open: Stocks fall after Fed official hints ...       IFA Magazine   \n",
       "3  Fed risks falling 'behind the curve', Charles ...       IFA Magazine   \n",
       "4  Fed's Plosser: Nasty Weather Has Curbed Job Gr...          Moneynews   \n",
       "\n",
       "  CATEGORY                          STORY             HOSTNAME  \n",
       "0        b  ddUyU0VZz0BRneMioxUPQVP6sIxvM      www.latimes.com  \n",
       "1        b  ddUyU0VZz0BRneMioxUPQVP6sIxvM     www.livemint.com  \n",
       "2        b  ddUyU0VZz0BRneMioxUPQVP6sIxvM  www.ifamagazine.com  \n",
       "3        b  ddUyU0VZz0BRneMioxUPQVP6sIxvM  www.ifamagazine.com  \n",
       "4        b  ddUyU0VZz0BRneMioxUPQVP6sIxvM    www.moneynews.com  "
      ]
     },
     "execution_count": 165,
     "metadata": {},
     "output_type": "execute_result"
    }
   ],
   "source": [
    "train_news_data.head()"
   ]
  },
  {
   "cell_type": "markdown",
   "id": "326524e8",
   "metadata": {},
   "source": [
    "# Now we can consider TITLE, PUBLISHER, STORY, HOSTNAME under a single text"
   ]
  },
  {
   "cell_type": "code",
   "execution_count": 166,
   "id": "d370f07b",
   "metadata": {},
   "outputs": [],
   "source": [
    "train_news_data['singleText'] = train_news_data['TITLE']+' '+train_news_data['PUBLISHER']+' '+train_news_data['STORY']+' '+train_news_data['HOSTNAME']"
   ]
  },
  {
   "cell_type": "code",
   "execution_count": 167,
   "id": "3089d949",
   "metadata": {},
   "outputs": [
    {
     "data": {
      "text/html": [
       "<div>\n",
       "<style scoped>\n",
       "    .dataframe tbody tr th:only-of-type {\n",
       "        vertical-align: middle;\n",
       "    }\n",
       "\n",
       "    .dataframe tbody tr th {\n",
       "        vertical-align: top;\n",
       "    }\n",
       "\n",
       "    .dataframe thead th {\n",
       "        text-align: right;\n",
       "    }\n",
       "</style>\n",
       "<table border=\"1\" class=\"dataframe\">\n",
       "  <thead>\n",
       "    <tr style=\"text-align: right;\">\n",
       "      <th></th>\n",
       "      <th>TITLE</th>\n",
       "      <th>PUBLISHER</th>\n",
       "      <th>CATEGORY</th>\n",
       "      <th>STORY</th>\n",
       "      <th>HOSTNAME</th>\n",
       "      <th>singleText</th>\n",
       "    </tr>\n",
       "  </thead>\n",
       "  <tbody>\n",
       "    <tr>\n",
       "      <th>0</th>\n",
       "      <td>Fed official says weak data caused by weather,...</td>\n",
       "      <td>Los Angeles Times</td>\n",
       "      <td>b</td>\n",
       "      <td>ddUyU0VZz0BRneMioxUPQVP6sIxvM</td>\n",
       "      <td>www.latimes.com</td>\n",
       "      <td>Fed official says weak data caused by weather,...</td>\n",
       "    </tr>\n",
       "    <tr>\n",
       "      <th>1</th>\n",
       "      <td>Fed's Charles Plosser sees high bar for change...</td>\n",
       "      <td>Livemint</td>\n",
       "      <td>b</td>\n",
       "      <td>ddUyU0VZz0BRneMioxUPQVP6sIxvM</td>\n",
       "      <td>www.livemint.com</td>\n",
       "      <td>Fed's Charles Plosser sees high bar for change...</td>\n",
       "    </tr>\n",
       "    <tr>\n",
       "      <th>2</th>\n",
       "      <td>US open: Stocks fall after Fed official hints ...</td>\n",
       "      <td>IFA Magazine</td>\n",
       "      <td>b</td>\n",
       "      <td>ddUyU0VZz0BRneMioxUPQVP6sIxvM</td>\n",
       "      <td>www.ifamagazine.com</td>\n",
       "      <td>US open: Stocks fall after Fed official hints ...</td>\n",
       "    </tr>\n",
       "    <tr>\n",
       "      <th>3</th>\n",
       "      <td>Fed risks falling 'behind the curve', Charles ...</td>\n",
       "      <td>IFA Magazine</td>\n",
       "      <td>b</td>\n",
       "      <td>ddUyU0VZz0BRneMioxUPQVP6sIxvM</td>\n",
       "      <td>www.ifamagazine.com</td>\n",
       "      <td>Fed risks falling 'behind the curve', Charles ...</td>\n",
       "    </tr>\n",
       "    <tr>\n",
       "      <th>4</th>\n",
       "      <td>Fed's Plosser: Nasty Weather Has Curbed Job Gr...</td>\n",
       "      <td>Moneynews</td>\n",
       "      <td>b</td>\n",
       "      <td>ddUyU0VZz0BRneMioxUPQVP6sIxvM</td>\n",
       "      <td>www.moneynews.com</td>\n",
       "      <td>Fed's Plosser: Nasty Weather Has Curbed Job Gr...</td>\n",
       "    </tr>\n",
       "  </tbody>\n",
       "</table>\n",
       "</div>"
      ],
      "text/plain": [
       "                                               TITLE          PUBLISHER  \\\n",
       "0  Fed official says weak data caused by weather,...  Los Angeles Times   \n",
       "1  Fed's Charles Plosser sees high bar for change...           Livemint   \n",
       "2  US open: Stocks fall after Fed official hints ...       IFA Magazine   \n",
       "3  Fed risks falling 'behind the curve', Charles ...       IFA Magazine   \n",
       "4  Fed's Plosser: Nasty Weather Has Curbed Job Gr...          Moneynews   \n",
       "\n",
       "  CATEGORY                          STORY             HOSTNAME  \\\n",
       "0        b  ddUyU0VZz0BRneMioxUPQVP6sIxvM      www.latimes.com   \n",
       "1        b  ddUyU0VZz0BRneMioxUPQVP6sIxvM     www.livemint.com   \n",
       "2        b  ddUyU0VZz0BRneMioxUPQVP6sIxvM  www.ifamagazine.com   \n",
       "3        b  ddUyU0VZz0BRneMioxUPQVP6sIxvM  www.ifamagazine.com   \n",
       "4        b  ddUyU0VZz0BRneMioxUPQVP6sIxvM    www.moneynews.com   \n",
       "\n",
       "                                          singleText  \n",
       "0  Fed official says weak data caused by weather,...  \n",
       "1  Fed's Charles Plosser sees high bar for change...  \n",
       "2  US open: Stocks fall after Fed official hints ...  \n",
       "3  Fed risks falling 'behind the curve', Charles ...  \n",
       "4  Fed's Plosser: Nasty Weather Has Curbed Job Gr...  "
      ]
     },
     "execution_count": 167,
     "metadata": {},
     "output_type": "execute_result"
    }
   ],
   "source": [
    "train_news_data.head()"
   ]
  },
  {
   "cell_type": "markdown",
   "id": "346ff3a4",
   "metadata": {},
   "source": [
    "# Creating lemmitization object theat we will use to convert the words to its root words."
   ]
  },
  {
   "cell_type": "code",
   "execution_count": 168,
   "id": "953ad4ff",
   "metadata": {},
   "outputs": [],
   "source": [
    "lemit = WordNetLemmatizer()"
   ]
  },
  {
   "cell_type": "markdown",
   "id": "2b020108",
   "metadata": {},
   "source": [
    "# Now we will do text data preprocessing"
   ]
  },
  {
   "cell_type": "code",
   "execution_count": 169,
   "id": "d7c5f006",
   "metadata": {},
   "outputs": [],
   "source": [
    "stopWords = stopwords.words('english')\n",
    "for index,row in train_news_data.iterrows():\n",
    "    filtered_sentence = ''\n",
    "    singleLine = row['singleText']\n",
    "    singleLine = re.sub(r'[^\\w\\s]','',singleLine)\n",
    "    words = nltk.word_tokenize(singleLine)\n",
    "    words = [w for w in words if not w in stopWords]\n",
    "    for word in words:\n",
    "        filtered_sentence = filtered_sentence +' '+ str(lemit.lemmatize(word)).lower()\n",
    "    train_news_data.loc[index,'singleText'] = filtered_sentence\n",
    "    "
   ]
  },
  {
   "cell_type": "code",
   "execution_count": 170,
   "id": "33209a9a",
   "metadata": {},
   "outputs": [
    {
     "data": {
      "text/html": [
       "<div>\n",
       "<style scoped>\n",
       "    .dataframe tbody tr th:only-of-type {\n",
       "        vertical-align: middle;\n",
       "    }\n",
       "\n",
       "    .dataframe tbody tr th {\n",
       "        vertical-align: top;\n",
       "    }\n",
       "\n",
       "    .dataframe thead th {\n",
       "        text-align: right;\n",
       "    }\n",
       "</style>\n",
       "<table border=\"1\" class=\"dataframe\">\n",
       "  <thead>\n",
       "    <tr style=\"text-align: right;\">\n",
       "      <th></th>\n",
       "      <th>TITLE</th>\n",
       "      <th>PUBLISHER</th>\n",
       "      <th>CATEGORY</th>\n",
       "      <th>STORY</th>\n",
       "      <th>HOSTNAME</th>\n",
       "      <th>singleText</th>\n",
       "    </tr>\n",
       "  </thead>\n",
       "  <tbody>\n",
       "    <tr>\n",
       "      <th>0</th>\n",
       "      <td>Fed official says weak data caused by weather,...</td>\n",
       "      <td>Los Angeles Times</td>\n",
       "      <td>b</td>\n",
       "      <td>ddUyU0VZz0BRneMioxUPQVP6sIxvM</td>\n",
       "      <td>www.latimes.com</td>\n",
       "      <td>fed official say weak data caused weather slo...</td>\n",
       "    </tr>\n",
       "    <tr>\n",
       "      <th>1</th>\n",
       "      <td>Fed's Charles Plosser sees high bar for change...</td>\n",
       "      <td>Livemint</td>\n",
       "      <td>b</td>\n",
       "      <td>ddUyU0VZz0BRneMioxUPQVP6sIxvM</td>\n",
       "      <td>www.livemint.com</td>\n",
       "      <td>feds charles plosser see high bar change pace...</td>\n",
       "    </tr>\n",
       "    <tr>\n",
       "      <th>2</th>\n",
       "      <td>US open: Stocks fall after Fed official hints ...</td>\n",
       "      <td>IFA Magazine</td>\n",
       "      <td>b</td>\n",
       "      <td>ddUyU0VZz0BRneMioxUPQVP6sIxvM</td>\n",
       "      <td>www.ifamagazine.com</td>\n",
       "      <td>us open stocks fall fed official hint acceler...</td>\n",
       "    </tr>\n",
       "    <tr>\n",
       "      <th>3</th>\n",
       "      <td>Fed risks falling 'behind the curve', Charles ...</td>\n",
       "      <td>IFA Magazine</td>\n",
       "      <td>b</td>\n",
       "      <td>ddUyU0VZz0BRneMioxUPQVP6sIxvM</td>\n",
       "      <td>www.ifamagazine.com</td>\n",
       "      <td>fed risk falling behind curve charles plosser...</td>\n",
       "    </tr>\n",
       "    <tr>\n",
       "      <th>4</th>\n",
       "      <td>Fed's Plosser: Nasty Weather Has Curbed Job Gr...</td>\n",
       "      <td>Moneynews</td>\n",
       "      <td>b</td>\n",
       "      <td>ddUyU0VZz0BRneMioxUPQVP6sIxvM</td>\n",
       "      <td>www.moneynews.com</td>\n",
       "      <td>feds plosser nasty weather has curbed job gro...</td>\n",
       "    </tr>\n",
       "  </tbody>\n",
       "</table>\n",
       "</div>"
      ],
      "text/plain": [
       "                                               TITLE          PUBLISHER  \\\n",
       "0  Fed official says weak data caused by weather,...  Los Angeles Times   \n",
       "1  Fed's Charles Plosser sees high bar for change...           Livemint   \n",
       "2  US open: Stocks fall after Fed official hints ...       IFA Magazine   \n",
       "3  Fed risks falling 'behind the curve', Charles ...       IFA Magazine   \n",
       "4  Fed's Plosser: Nasty Weather Has Curbed Job Gr...          Moneynews   \n",
       "\n",
       "  CATEGORY                          STORY             HOSTNAME  \\\n",
       "0        b  ddUyU0VZz0BRneMioxUPQVP6sIxvM      www.latimes.com   \n",
       "1        b  ddUyU0VZz0BRneMioxUPQVP6sIxvM     www.livemint.com   \n",
       "2        b  ddUyU0VZz0BRneMioxUPQVP6sIxvM  www.ifamagazine.com   \n",
       "3        b  ddUyU0VZz0BRneMioxUPQVP6sIxvM  www.ifamagazine.com   \n",
       "4        b  ddUyU0VZz0BRneMioxUPQVP6sIxvM    www.moneynews.com   \n",
       "\n",
       "                                          singleText  \n",
       "0   fed official say weak data caused weather slo...  \n",
       "1   feds charles plosser see high bar change pace...  \n",
       "2   us open stocks fall fed official hint acceler...  \n",
       "3   fed risk falling behind curve charles plosser...  \n",
       "4   feds plosser nasty weather has curbed job gro...  "
      ]
     },
     "execution_count": 170,
     "metadata": {},
     "output_type": "execute_result"
    }
   ],
   "source": [
    "train_news_data.head()"
   ]
  },
  {
   "cell_type": "markdown",
   "id": "e6d8deda",
   "metadata": {},
   "source": [
    "# Now our data has been preprocessed and has been stored in column single text. Now we will drop off extra columns and convert the categorical values to numerical values."
   ]
  },
  {
   "cell_type": "code",
   "execution_count": 171,
   "id": "64be48f8",
   "metadata": {},
   "outputs": [],
   "source": [
    "train_news_data = train_news_data.drop(['TITLE','PUBLISHER','STORY','HOSTNAME'], axis = 1)"
   ]
  },
  {
   "cell_type": "code",
   "execution_count": 172,
   "id": "04751c2b",
   "metadata": {},
   "outputs": [
    {
     "data": {
      "text/html": [
       "<div>\n",
       "<style scoped>\n",
       "    .dataframe tbody tr th:only-of-type {\n",
       "        vertical-align: middle;\n",
       "    }\n",
       "\n",
       "    .dataframe tbody tr th {\n",
       "        vertical-align: top;\n",
       "    }\n",
       "\n",
       "    .dataframe thead th {\n",
       "        text-align: right;\n",
       "    }\n",
       "</style>\n",
       "<table border=\"1\" class=\"dataframe\">\n",
       "  <thead>\n",
       "    <tr style=\"text-align: right;\">\n",
       "      <th></th>\n",
       "      <th>CATEGORY</th>\n",
       "      <th>singleText</th>\n",
       "    </tr>\n",
       "  </thead>\n",
       "  <tbody>\n",
       "    <tr>\n",
       "      <th>0</th>\n",
       "      <td>b</td>\n",
       "      <td>fed official say weak data caused weather slo...</td>\n",
       "    </tr>\n",
       "    <tr>\n",
       "      <th>1</th>\n",
       "      <td>b</td>\n",
       "      <td>feds charles plosser see high bar change pace...</td>\n",
       "    </tr>\n",
       "    <tr>\n",
       "      <th>2</th>\n",
       "      <td>b</td>\n",
       "      <td>us open stocks fall fed official hint acceler...</td>\n",
       "    </tr>\n",
       "    <tr>\n",
       "      <th>3</th>\n",
       "      <td>b</td>\n",
       "      <td>fed risk falling behind curve charles plosser...</td>\n",
       "    </tr>\n",
       "    <tr>\n",
       "      <th>4</th>\n",
       "      <td>b</td>\n",
       "      <td>feds plosser nasty weather has curbed job gro...</td>\n",
       "    </tr>\n",
       "  </tbody>\n",
       "</table>\n",
       "</div>"
      ],
      "text/plain": [
       "  CATEGORY                                         singleText\n",
       "0        b   fed official say weak data caused weather slo...\n",
       "1        b   feds charles plosser see high bar change pace...\n",
       "2        b   us open stocks fall fed official hint acceler...\n",
       "3        b   fed risk falling behind curve charles plosser...\n",
       "4        b   feds plosser nasty weather has curbed job gro..."
      ]
     },
     "execution_count": 172,
     "metadata": {},
     "output_type": "execute_result"
    }
   ],
   "source": [
    "train_news_data.head()"
   ]
  },
  {
   "cell_type": "markdown",
   "id": "e917d012",
   "metadata": {},
   "source": [
    "# replacing categories values with numerical values"
   ]
  },
  {
   "cell_type": "code",
   "execution_count": 144,
   "id": "9e998e94",
   "metadata": {},
   "outputs": [],
   "source": [
    "train_news_data.CATEGORY[train_news_data.CATEGORY == 'b'] = 0\n",
    "train_news_data.CATEGORY[train_news_data.CATEGORY == 't'] = 1\n",
    "train_news_data.CATEGORY[train_news_data.CATEGORY == 'e'] = 2\n",
    "train_news_data.CATEGORY[train_news_data.CATEGORY == 'm'] = 3"
   ]
  },
  {
   "cell_type": "code",
   "execution_count": 145,
   "id": "0704e474",
   "metadata": {},
   "outputs": [
    {
     "data": {
      "text/plain": [
       "array([0, 1, 2, 3], dtype=object)"
      ]
     },
     "execution_count": 145,
     "metadata": {},
     "output_type": "execute_result"
    }
   ],
   "source": [
    "train_news_data['CATEGORY'].unique()"
   ]
  },
  {
   "cell_type": "code",
   "execution_count": 146,
   "id": "ca13b317",
   "metadata": {},
   "outputs": [],
   "source": [
    "categoriesKey = {'0':'b','1':'t','2':'e','3':'m'}"
   ]
  },
  {
   "cell_type": "code",
   "execution_count": 147,
   "id": "d55e5700",
   "metadata": {},
   "outputs": [
    {
     "data": {
      "text/plain": [
       "{'0': 'b', '1': 't', '2': 'e', '3': 'm'}"
      ]
     },
     "execution_count": 147,
     "metadata": {},
     "output_type": "execute_result"
    }
   ],
   "source": [
    "categoriesKey"
   ]
  },
  {
   "cell_type": "code",
   "execution_count": 173,
   "id": "d37d3efe",
   "metadata": {},
   "outputs": [],
   "source": [
    "X_data = train_news_data['singleText']\n",
    "Y_data = train_news_data['CATEGORY']"
   ]
  },
  {
   "cell_type": "markdown",
   "id": "986a0676",
   "metadata": {},
   "source": [
    "# Now here we will apply NLP to make BAG OF WORDS"
   ]
  },
  {
   "cell_type": "code",
   "execution_count": 174,
   "id": "fdb1a933",
   "metadata": {},
   "outputs": [],
   "source": [
    "count_vectorizer = CountVectorizer()\n",
    "count_vectorizer.fit_transform(X_data)\n",
    "freq_term_matrix = count_vectorizer.transform(X_data)\n",
    "tfidf = TfidfTransformer(norm=\"l2\")\n",
    "tfidf.fit(freq_term_matrix)\n",
    "tf_idf_matrix = tfidf.fit_transform(freq_term_matrix)"
   ]
  },
  {
   "cell_type": "markdown",
   "id": "553c3c9f",
   "metadata": {},
   "source": [
    "# defining function to plot result using confusion_matrix"
   ]
  },
  {
   "cell_type": "code",
   "execution_count": 183,
   "id": "d662d6dd",
   "metadata": {},
   "outputs": [],
   "source": [
    "def plot_confusion_matrix(cm, classes,\n",
    "                          normalize=False,\n",
    "                          title='Confusion matrix',\n",
    "                          cmap=plt.cm.Blues):\n",
    "    \"\"\"\n",
    "    See full source and example: \n",
    "    http://scikit-learn.org/stable/auto_examples/model_selection/plot_confusion_matrix.html\n",
    "    \n",
    "    This function prints and plots the confusion matrix.\n",
    "    Normalization can be applied by setting `normalize=True`.\n",
    "    \"\"\"\n",
    "    plt.imshow(cm, interpolation='nearest', cmap=cmap)\n",
    "    plt.title(title)\n",
    "    plt.colorbar()\n",
    "    tick_marks = np.arange(len(classes))\n",
    "    plt.xticks(tick_marks, classes, rotation=45)\n",
    "    plt.yticks(tick_marks, classes)\n",
    "\n",
    "    if normalize:\n",
    "        cm = cm.astype('float') / cm.sum(axis=1)[:, np.newaxis]\n",
    "        print(\"Normalized confusion matrix\")\n",
    "    else:\n",
    "        print('Confusion matrix, without normalization')\n",
    "\n",
    "    thresh = cm.max() / 2.\n",
    "    for i, j in itertools.product(range(cm.shape[0]), range(cm.shape[1])):\n",
    "        plt.text(j, i, cm[i, j],\n",
    "                 horizontalalignment=\"center\",\n",
    "                 color=\"white\" if cm[i, j] > thresh else \"black\")\n",
    "\n",
    "    plt.tight_layout()\n",
    "    plt.ylabel('True label')\n",
    "    plt.xlabel('Predicted label')"
   ]
  },
  {
   "cell_type": "markdown",
   "id": "5473c1b7",
   "metadata": {},
   "source": [
    "# Now we will make our model."
   ]
  },
  {
   "cell_type": "markdown",
   "id": "dcbf4246",
   "metadata": {},
   "source": [
    "# first we will split our data into train and test data"
   ]
  },
  {
   "cell_type": "code",
   "execution_count": 175,
   "id": "c1686831",
   "metadata": {},
   "outputs": [],
   "source": [
    "X_train,X_test,Y_train,Y_test = train_test_split(tf_idf_matrix,Y_data,random_state=0)"
   ]
  },
  {
   "cell_type": "markdown",
   "id": "ff6e97b0",
   "metadata": {},
   "source": [
    "# Now we will create our model and tune it"
   ]
  },
  {
   "cell_type": "markdown",
   "id": "65b76df8",
   "metadata": {},
   "source": [
    "# I am using MultinomialNB model as we have multiclasses to predict"
   ]
  },
  {
   "cell_type": "code",
   "execution_count": 181,
   "id": "7140f38c",
   "metadata": {},
   "outputs": [
    {
     "name": "stdout",
     "output_type": "stream",
     "text": [
      "Accuracy of NB  classifier on training set: 0.99\n",
      "Accuracy of NB classifier on test set: 0.98\n"
     ]
    },
    {
     "data": {
      "text/plain": [
       "array([[2452,    4,    9,   25],\n",
       "       [  11, 2481,    5,   12],\n",
       "       [  26,   10, 2433,    8],\n",
       "       [  51,   10,   10, 2453]], dtype=int64)"
      ]
     },
     "execution_count": 181,
     "metadata": {},
     "output_type": "execute_result"
    }
   ],
   "source": [
    "naive_classifier = MultinomialNB()\n",
    "naive_classifier.fit(X_train,Y_train)\n",
    "pred = naive_classifier.predict(X_test)\n",
    "print('Accuracy of NB  classifier on training set: {:.2f}'\n",
    "     .format(naive_classifier.score(X_train, Y_train)))\n",
    "print('Accuracy of NB classifier on test set: {:.2f}'\n",
    "     .format(naive_classifier.score(X_test, Y_test)))\n",
    "c_matrix = confusion_matrix(Y_test,pred)\n",
    "c_matrix"
   ]
  },
  {
   "cell_type": "code",
   "execution_count": 186,
   "id": "39e34645",
   "metadata": {},
   "outputs": [
    {
     "name": "stdout",
     "output_type": "stream",
     "text": [
      "Confusion matrix, without normalization\n"
     ]
    },
    {
     "data": {
      "image/png": "[encoded data removed]",
      "text/plain": [
       "<Figure size 432x288 with 2 Axes>"
      ]
     },
     "metadata": {
      "needs_background": "light"
     },
     "output_type": "display_data"
    }
   ],
   "source": [
    "plot_confusion_matrix(c_matrix, classes=['b', 't','e','m'])"
   ]
  },
  {
   "cell_type": "markdown",
   "id": "c59c0edb",
   "metadata": {},
   "source": [
    "# Now I have tested the model mannualy against the test data that I had prepared previously "
   ]
  },
  {
   "cell_type": "code",
   "execution_count": 189,
   "id": "796a027b",
   "metadata": {},
   "outputs": [],
   "source": [
    "test_news_data = pd.read_csv('data/test_data.csv')"
   ]
  },
  {
   "cell_type": "code",
   "execution_count": 255,
   "id": "e217fd26",
   "metadata": {},
   "outputs": [
    {
     "data": {
      "text/html": [
       "<div>\n",
       "<style scoped>\n",
       "    .dataframe tbody tr th:only-of-type {\n",
       "        vertical-align: middle;\n",
       "    }\n",
       "\n",
       "    .dataframe tbody tr th {\n",
       "        vertical-align: top;\n",
       "    }\n",
       "\n",
       "    .dataframe thead th {\n",
       "        text-align: right;\n",
       "    }\n",
       "</style>\n",
       "<table border=\"1\" class=\"dataframe\">\n",
       "  <thead>\n",
       "    <tr style=\"text-align: right;\">\n",
       "      <th></th>\n",
       "      <th>Unnamed: 0</th>\n",
       "      <th>ID</th>\n",
       "      <th>TITLE</th>\n",
       "      <th>URL</th>\n",
       "      <th>PUBLISHER</th>\n",
       "      <th>CATEGORY</th>\n",
       "      <th>STORY</th>\n",
       "      <th>HOSTNAME</th>\n",
       "      <th>TIMESTAMP</th>\n",
       "    </tr>\n",
       "  </thead>\n",
       "  <tbody>\n",
       "    <tr>\n",
       "      <th>0</th>\n",
       "      <td>306688</td>\n",
       "      <td>307148</td>\n",
       "      <td>'Uncarrier' T-Mobile Offers Free Music Streami...</td>\n",
       "      <td>http://appadvice.com/appnn/2014/06/us-uncarrie...</td>\n",
       "      <td>AppAdvice</td>\n",
       "      <td>t</td>\n",
       "      <td>deCedQ_Ns9y7hpMx868ER0EotfEjM</td>\n",
       "      <td>appadvice.com</td>\n",
       "      <td>1403201979698</td>\n",
       "    </tr>\n",
       "    <tr>\n",
       "      <th>1</th>\n",
       "      <td>368566</td>\n",
       "      <td>369026</td>\n",
       "      <td>Andi travels to Arlington, Iowa, to visit Chri...</td>\n",
       "      <td>http://time.com/2965046/recap-the-bachelorette...</td>\n",
       "      <td>TIME</td>\n",
       "      <td>e</td>\n",
       "      <td>dUgZ4Zj7FtJugvMKX2exbsWp7ermM</td>\n",
       "      <td>time.com</td>\n",
       "      <td>1404835355181</td>\n",
       "    </tr>\n",
       "    <tr>\n",
       "      <th>2</th>\n",
       "      <td>111034</td>\n",
       "      <td>111270</td>\n",
       "      <td>Captain America: Winter Soldier stays top of t...</td>\n",
       "      <td>http://www.dailymail.co.uk/tvshowbiz/article-2...</td>\n",
       "      <td>Daily Mail</td>\n",
       "      <td>e</td>\n",
       "      <td>dLo264xHVWUXcfMoeF7tU6iFGWAEM</td>\n",
       "      <td>www.dailymail.co.uk</td>\n",
       "      <td>1397461223403</td>\n",
       "    </tr>\n",
       "    <tr>\n",
       "      <th>3</th>\n",
       "      <td>71454</td>\n",
       "      <td>71530</td>\n",
       "      <td>New cars will be required to have rear view ca...</td>\n",
       "      <td>http://bangordailynews.com/2014/03/31/news/nat...</td>\n",
       "      <td>Bangor Daily News</td>\n",
       "      <td>t</td>\n",
       "      <td>dZfXLxnew3vgH-MuiZm15zP98a3eM</td>\n",
       "      <td>bangordailynews.com</td>\n",
       "      <td>1396287731883</td>\n",
       "    </tr>\n",
       "  </tbody>\n",
       "</table>\n",
       "</div>"
      ],
      "text/plain": [
       "   Unnamed: 0      ID                                              TITLE  \\\n",
       "0      306688  307148  'Uncarrier' T-Mobile Offers Free Music Streami...   \n",
       "1      368566  369026  Andi travels to Arlington, Iowa, to visit Chri...   \n",
       "2      111034  111270  Captain America: Winter Soldier stays top of t...   \n",
       "3       71454   71530  New cars will be required to have rear view ca...   \n",
       "\n",
       "                                                 URL          PUBLISHER  \\\n",
       "0  http://appadvice.com/appnn/2014/06/us-uncarrie...          AppAdvice   \n",
       "1  http://time.com/2965046/recap-the-bachelorette...               TIME   \n",
       "2  http://www.dailymail.co.uk/tvshowbiz/article-2...         Daily Mail   \n",
       "3  http://bangordailynews.com/2014/03/31/news/nat...  Bangor Daily News   \n",
       "\n",
       "  CATEGORY                          STORY             HOSTNAME      TIMESTAMP  \n",
       "0        t  deCedQ_Ns9y7hpMx868ER0EotfEjM        appadvice.com  1403201979698  \n",
       "1        e  dUgZ4Zj7FtJugvMKX2exbsWp7ermM             time.com  1404835355181  \n",
       "2        e  dLo264xHVWUXcfMoeF7tU6iFGWAEM  www.dailymail.co.uk  1397461223403  \n",
       "3        t  dZfXLxnew3vgH-MuiZm15zP98a3eM  bangordailynews.com  1396287731883  "
      ]
     },
     "execution_count": 255,
     "metadata": {},
     "output_type": "execute_result"
    }
   ],
   "source": [
    "test_news_data.head(4)"
   ]
  },
  {
   "cell_type": "code",
   "execution_count": 195,
   "id": "f9a779e2",
   "metadata": {},
   "outputs": [],
   "source": [
    "string = test_news_data.loc[0,'TITLE'] + ' ' + test_news_data.loc[0,'PUBLISHER']+' '+test_news_data.loc[0,'STORY'] + ' ' + test_news_data.loc[0,'HOSTNAME']"
   ]
  },
  {
   "cell_type": "code",
   "execution_count": 209,
   "id": "68a57406",
   "metadata": {},
   "outputs": [],
   "source": [
    "testing_data =pd.Series(string)"
   ]
  },
  {
   "cell_type": "code",
   "execution_count": 221,
   "id": "d035308f",
   "metadata": {},
   "outputs": [],
   "source": [
    "test_count_vectorizer = CountVectorizer()\n",
    "test_count_vectorizer.fit_transform(testing_data)\n",
    "test_freq_term_matrix1 = count_vectorizer.transform(testing_data)\n",
    "tfidf = TfidfTransformer(norm=\"l2\")\n",
    "tfidf.fit(test_freq_term_matrix1)\n",
    "test_tf_idf_matrix = tfidf.fit_transform(test_freq_term_matrix1)"
   ]
  },
  {
   "cell_type": "code",
   "execution_count": 222,
   "id": "7f78499c",
   "metadata": {},
   "outputs": [
    {
     "data": {
      "text/plain": [
       "array(['t'], dtype='<U1')"
      ]
     },
     "execution_count": 222,
     "metadata": {},
     "output_type": "execute_result"
    }
   ],
   "source": [
    "naive_classifier.predict(test_tf_idf_matrix)"
   ]
  },
  {
   "cell_type": "markdown",
   "id": "a178d649",
   "metadata": {},
   "source": [
    "# Now we can seee that our model has predicted the correct news category. Now we will create teh pipeline and then train against the train data."
   ]
  },
  {
   "cell_type": "code",
   "execution_count": 239,
   "id": "f41762d3",
   "metadata": {},
   "outputs": [],
   "source": [
    "classifier_pipeline = model = Pipeline([\n",
    "    ('vect', CountVectorizer()),\n",
    "    ('tfidf', TfidfTransformer(norm='l2')),\n",
    "    ('clf', MultinomialNB()),\n",
    "])"
   ]
  },
  {
   "cell_type": "code",
   "execution_count": 240,
   "id": "86ec3969",
   "metadata": {},
   "outputs": [
    {
     "data": {
      "text/plain": [
       "Pipeline(steps=[('vect', CountVectorizer()), ('tfidf', TfidfTransformer()),\n",
       "                ('clf', MultinomialNB())])"
      ]
     },
     "execution_count": 240,
     "metadata": {},
     "output_type": "execute_result"
    }
   ],
   "source": [
    "classifier_pipeline"
   ]
  },
  {
   "cell_type": "code",
   "execution_count": 241,
   "id": "c424f6ee",
   "metadata": {
    "scrolled": true
   },
   "outputs": [
    {
     "data": {
      "text/plain": [
       "Pipeline(steps=[('vect', CountVectorizer()), ('tfidf', TfidfTransformer()),\n",
       "                ('clf', MultinomialNB())])"
      ]
     },
     "execution_count": 241,
     "metadata": {},
     "output_type": "execute_result"
    }
   ],
   "source": [
    "classifier_pipeline.fit(X_data,Y_data)"
   ]
  },
  {
   "cell_type": "code",
   "execution_count": 235,
   "id": "6b966408",
   "metadata": {},
   "outputs": [],
   "source": [
    "teststring = test_news_data.loc[1,'TITLE'] + ' ' + test_news_data.loc[1,'PUBLISHER']+' '+test_news_data.loc[1,'STORY'] + ' ' + test_news_data.loc[1,'HOSTNAME']"
   ]
  },
  {
   "cell_type": "code",
   "execution_count": 242,
   "id": "ad2da817",
   "metadata": {},
   "outputs": [],
   "source": [
    "testData = pd.Series(teststring)"
   ]
  },
  {
   "cell_type": "code",
   "execution_count": 244,
   "id": "6e4a8f94",
   "metadata": {},
   "outputs": [
    {
     "data": {
      "text/plain": [
       "array(['e'], dtype='<U1')"
      ]
     },
     "execution_count": 244,
     "metadata": {},
     "output_type": "execute_result"
    }
   ],
   "source": [
    "classifier_pipeline.predict(testData)"
   ]
  },
  {
   "cell_type": "markdown",
   "id": "f8e8eb39",
   "metadata": {},
   "source": [
    "# here we can see that pipeline is predicting correct answer"
   ]
  },
  {
   "cell_type": "markdown",
   "id": "9a7eb34f",
   "metadata": {},
   "source": [
    "# Now we will save this pipeline so we can use it further"
   ]
  },
  {
   "cell_type": "code",
   "execution_count": 247,
   "id": "39f195af",
   "metadata": {},
   "outputs": [
    {
     "data": {
      "text/plain": [
       "['classifier_pipeline.sav']"
      ]
     },
     "execution_count": 247,
     "metadata": {},
     "output_type": "execute_result"
    }
   ],
   "source": [
    "filename = 'classifier_pipeline.sav'\n",
    "dump(classifier_pipeline, filename)"
   ]
  },
  {
   "cell_type": "code",
   "execution_count": 248,
   "id": "ad68d9fc",
   "metadata": {},
   "outputs": [],
   "source": [
    "PL = load(filename)"
   ]
  },
  {
   "cell_type": "code",
   "execution_count": 256,
   "id": "491f84bf",
   "metadata": {},
   "outputs": [],
   "source": [
    "testing_data =pd.Series(test_news_data.loc[3,'TITLE'] + ' ' + test_news_data.loc[3,'PUBLISHER']+' '+test_news_data.loc[3,'STORY'] + ' ' + test_news_data.loc[3,'HOSTNAME'])"
   ]
  },
  {
   "cell_type": "code",
   "execution_count": 259,
   "id": "794d1cfe",
   "metadata": {},
   "outputs": [
    {
     "data": {
      "text/plain": [
       "array(['e'], dtype='<U1')"
      ]
     },
     "execution_count": 259,
     "metadata": {},
     "output_type": "execute_result"
    }
   ],
   "source": [
    "PL.predict(testData)"
   ]
  },
  {
   "cell_type": "code",
   "execution_count": 258,
   "id": "19e533fd",
   "metadata": {},
   "outputs": [
    {
     "data": {
      "text/plain": [
       "0    New cars will be required to have rear view ca...\n",
       "dtype: object"
      ]
     },
     "execution_count": 258,
     "metadata": {},
     "output_type": "execute_result"
    }
   ],
   "source": [
    "testing_data"
   ]
  },
  {
   "cell_type": "code",
   "execution_count": null,
   "id": "a6ac44f3",
   "metadata": {},
   "outputs": [],
   "source": []
  }
 ],
 "metadata": {
  "kernelspec": {
   "display_name": "Python 3",
   "language": "python",
   "name": "python3"
  },
  "language_info": {
   "codemirror_mode": {
    "name": "ipython",
    "version": 3
   },
   "file_extension": ".py",
   "mimetype": "text/x-python",
   "name": "python",
   "nbconvert_exporter": "python",
   "pygments_lexer": "ipython3",
   "version": "3.8.8"
  }
 },
 "nbformat": 4,
 "nbformat_minor": 5
}
